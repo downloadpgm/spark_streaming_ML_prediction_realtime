{
 "cells": [
  {
   "cell_type": "code",
   "execution_count": 1,
   "metadata": {},
   "outputs": [
    {
     "data": {
      "text/html": [
       "\n",
       "            <div>\n",
       "                <p><b>SparkSession - hive</b></p>\n",
       "                \n",
       "        <div>\n",
       "            <p><b>SparkContext</b></p>\n",
       "\n",
       "            <p><a href=\"http://102fe083f088:4040\">Spark UI</a></p>\n",
       "\n",
       "            <dl>\n",
       "              <dt>Version</dt>\n",
       "                <dd><code>v3.0.3</code></dd>\n",
       "              <dt>Master</dt>\n",
       "                <dd><code>local[*]</code></dd>\n",
       "              <dt>AppName</dt>\n",
       "                <dd><code>PySparkShell</code></dd>\n",
       "            </dl>\n",
       "        </div>\n",
       "        \n",
       "            </div>\n",
       "        "
      ],
      "text/plain": [
       "<pyspark.sql.session.SparkSession at 0x7fd171676580>"
      ]
     },
     "execution_count": 1,
     "metadata": {},
     "output_type": "execute_result"
    }
   ],
   "source": [
    "spark"
   ]
  },
  {
   "cell_type": "code",
   "execution_count": 2,
   "metadata": {},
   "outputs": [],
   "source": [
    "df = spark.read.format(\"delta\").load(\"hdfs://hdpmst:9000/data/pred\")"
   ]
  },
  {
   "cell_type": "code",
   "execution_count": 3,
   "metadata": {},
   "outputs": [],
   "source": [
    "df.createOrReplaceTempView(\"pred\")"
   ]
  },
  {
   "cell_type": "code",
   "execution_count": 17,
   "metadata": {},
   "outputs": [
    {
     "name": "stdout",
     "output_type": "stream",
     "text": [
      "+----+------------------+\n",
      "|MEDV|        prediction|\n",
      "+----+------------------+\n",
      "|22.6| 27.80149657972927|\n",
      "|22.0|28.048023135995916|\n",
      "|22.9|27.935254971560017|\n",
      "|25.0|28.099534243190178|\n",
      "|20.6|25.885222380384633|\n",
      "|28.4|29.451662258593313|\n",
      "|21.4| 25.37018906892432|\n",
      "|38.7|36.910038462613954|\n",
      "|43.8| 36.34412187081957|\n",
      "|33.2| 33.25786846701674|\n",
      "+----+------------------+\n",
      "\n"
     ]
    }
   ],
   "source": [
    "spark.sql(\"select * from pred\").show()"
   ]
  },
  {
   "cell_type": "code",
   "execution_count": 18,
   "metadata": {},
   "outputs": [
    {
     "name": "stdout",
     "output_type": "stream",
     "text": [
      "+----+------------------+\n",
      "|MEDV|        prediction|\n",
      "+----+------------------+\n",
      "|28.5|32.695596382756854|\n",
      "|37.3| 33.75639928680154|\n",
      "|27.9|31.055999488635884|\n",
      "|23.9|25.085932894623156|\n",
      "|21.7|23.567102068674032|\n",
      "|28.6|27.813165524098327|\n",
      "|27.1|26.596773747648804|\n",
      "|20.3|18.582585754515076|\n",
      "|22.5| 29.25557463066683|\n",
      "|29.0| 32.30827230317707|\n",
      "+----+------------------+\n",
      "\n"
     ]
    }
   ],
   "source": [
    "import time\n",
    "from IPython import display\n",
    "\n",
    "while True:\n",
    "    try:\n",
    "       spark.sql(\"select * from pred\").show()\n",
    "       display.clear_output(wait=True) \n",
    "       time.sleep(10)\n",
    "    except KeyboardInterrupt:\n",
    "        break"
   ]
  },
  {
   "cell_type": "code",
   "execution_count": null,
   "metadata": {},
   "outputs": [],
   "source": []
  }
 ],
 "metadata": {
  "kernelspec": {
   "display_name": "Python 3",
   "language": "python",
   "name": "python3"
  },
  "language_info": {
   "codemirror_mode": {
    "name": "ipython",
    "version": 3
   },
   "file_extension": ".py",
   "mimetype": "text/x-python",
   "name": "python",
   "nbconvert_exporter": "python",
   "pygments_lexer": "ipython3",
   "version": "3.8.10"
  }
 },
 "nbformat": 4,
 "nbformat_minor": 4
}
